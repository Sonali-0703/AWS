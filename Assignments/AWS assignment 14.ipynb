{
 "cells": [
  {
   "cell_type": "markdown",
   "id": "9d0138e4-6b8d-42c6-9b1b-290cd2ff864b",
   "metadata": {},
   "source": [
    "**Q. What is AWS IAM, and why is it important?**"
   ]
  },
  {
   "cell_type": "markdown",
   "id": "c2089e71-b131-41ac-b74c-4b675f280382",
   "metadata": {},
   "source": [
    "AWS IAM (Identity and Access Management) is a service provided by Amazon Web Services that helps you control access to your AWS resources. \n",
    "It allows you to manage user identities, permissions, and policies. IAM is important because it enhances security by ensuring that only authorized \n",
    "individuals or entities have access to your AWS resources, helping you enforce the principle of least privilege and maintain a secure environment."
   ]
  },
  {
   "cell_type": "markdown",
   "id": "ab952e09-7e5b-4dd7-9e36-b05d91e55135",
   "metadata": {},
   "source": [
    "**Q: What is the difference between IAM users and IAM roles?**\n"
   ]
  },
  {
   "cell_type": "markdown",
   "id": "fdb1e082-351c-43b9-ba70-95220473f518",
   "metadata": {},
   "source": [
    "IAM policies are JSON documents that define permissions. They specify what actions are allowed or denied on \n",
    "AWS resources and can be attached to IAM users, groups, or roles. Policies control access by matching the actions \n",
    "requested by a user or entity with the actions allowed or denied in the policy. \n",
    "If a requested action matches an allowed action in the policy, access is granted; otherwise, it is denied."
   ]
  },
  {
   "cell_type": "markdown",
   "id": "d226b9c8-f95a-4f4a-a7a9-84762b039df7",
   "metadata": {},
   "source": [
    "**Q: What is the principle of least privilege, and why is it important in IAM?**\n"
   ]
  },
  {
   "cell_type": "markdown",
   "id": "ac081146-80c1-4bb8-9a7c-f2faf0df2d3d",
   "metadata": {},
   "source": [
    "The principle of least privilege states that users should be granted only the permissions necessary to perform their tasks and nothing more. \n",
    "It is important in IAM because it minimizes the risk of unauthorized access and limits the potential damage that could be caused \n",
    "    by a compromised account. Following the principle of least privilege helps maintain a secure environment \n",
    "by ensuring that users have only the permissions they need to perform their job responsibilities."
   ]
  },
  {
   "cell_type": "markdown",
   "id": "4b784bd3-c235-42fa-8c57-d8cc154092d4",
   "metadata": {},
   "source": [
    "**Q: What is an AWS managed policy?**\n"
   ]
  },
  {
   "cell_type": "markdown",
   "id": "080d5919-9d7e-4010-ac42-8c44abb9f91b",
   "metadata": {},
   "source": [
    "An AWS managed policy is a predefined policy created and managed by AWS. \n",
    "These policies cover common use cases and provide predefined permissions for specific AWS services or actions. \n",
    "    AWS managed policies are maintained and updated by AWS, ensuring they stay up to date with new AWS services and features. \n",
    "    They can be attached to IAM users, groups, or roles in your AWS account."
   ]
  }
 ],
 "metadata": {
  "kernelspec": {
   "display_name": "Python 3 (ipykernel)",
   "language": "python",
   "name": "python3"
  },
  "language_info": {
   "codemirror_mode": {
    "name": "ipython",
    "version": 3
   },
   "file_extension": ".py",
   "mimetype": "text/x-python",
   "name": "python",
   "nbconvert_exporter": "python",
   "pygments_lexer": "ipython3",
   "version": "3.11.7"
  }
 },
 "nbformat": 4,
 "nbformat_minor": 5
}
