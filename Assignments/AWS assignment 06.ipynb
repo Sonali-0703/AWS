{
 "cells": [
  {
   "cell_type": "markdown",
   "id": "7fff488c-3468-46e8-bab5-64f75b321e67",
   "metadata": {},
   "source": [
    "**Q1) What is an EIP?** \n"
   ]
  },
  {
   "cell_type": "markdown",
   "id": "dcec763a-4361-4140-8f71-c44d377d5663",
   "metadata": {},
   "source": [
    "Answer: EIP stands for Elastic IP address. It is designed for dynamic cloud computing. When you want to have a static IP address for your \n",
    "    instances when you stop and restart your instances, you will be using EIP address. "
   ]
  },
  {
   "cell_type": "markdown",
   "id": "9e6f23d6-675a-4a82-939b-8cf0811f771d",
   "metadata": {},
   "source": [
    "**Q2) What is Cloudwatch?**"
   ]
  },
  {
   "cell_type": "markdown",
   "id": "e4d587b7-967f-437e-88d8-49d69f0f611f",
   "metadata": {},
   "source": [
    "Answer: Cloudwatch is a monitoring tool that you can use to monitor your various AWS resources. Like health check, network, Application, etc. "
   ]
  },
  {
   "cell_type": "markdown",
   "id": "b6bef0e5-1547-4b95-8b8d-2fe4baa526e5",
   "metadata": {},
   "source": [
    "**Q3) What are the types in cloudwatch?** \n"
   ]
  },
  {
   "cell_type": "markdown",
   "id": "fb6a5b9a-d740-45d6-8a8b-74121c48959d",
   "metadata": {},
   "source": [
    "Answer: There are 2 types in cloudwatch. Basic monitoring and detailed monitoring. Basic monitoring is free and detailed monitoring is chargeable. "
   ]
  },
  {
   "cell_type": "markdown",
   "id": "0046f271-dafc-4dc9-b6eb-9ed58e0de116",
   "metadata": {},
   "source": [
    "**Q4) What are the cloudwatch metrics that are available for EC2 instances?**"
   ]
  },
  {
   "cell_type": "markdown",
   "id": "88686591-7816-499d-be93-280ebf41c827",
   "metadata": {},
   "source": [
    "Answer: Diskreads, Diskwrites, CPU utilization, networkpacketsIn, networkpacketsOut, networkIn, networkOut, CPUCreditUsage, CPUCreditBalance. "
   ]
  },
  {
   "cell_type": "markdown",
   "id": "6ea2424b-97ba-4022-8ef1-cf929faf9b6c",
   "metadata": {},
   "source": [
    "**Q5) What is the minimum and maximum size of individual objects that you can store in S3?** "
   ]
  },
  {
   "cell_type": "markdown",
   "id": "141b0904-a6c1-4331-ba2d-850934457349",
   "metadata": {},
   "source": [
    "Answer: The minimum size of individual objects that you can store in S3 is 0 bytes and \n",
    "the maximum bytes that you can store for individual objects is 5TB. "
   ]
  },
  {
   "cell_type": "markdown",
   "id": "0d59eaa9-36b2-41cf-9634-fb36692d1a31",
   "metadata": {},
   "source": [
    "**Q6) What are the different storage classes in S3?**"
   ]
  },
  {
   "cell_type": "markdown",
   "id": "0890b7f7-dd00-4915-bfe9-64214e35dacc",
   "metadata": {},
   "source": [
    "Answer: Following are the types of storage classes in S3, \n",
    "• Standard frequently accessed \n",
    "• Standard infrequently accessed \n",
    "• One-zone infrequently accessed. \n",
    "• Glacier • RRS – reduced redundancy storage "
   ]
  },
  {
   "cell_type": "markdown",
   "id": "8e9bb710-e24e-453c-8b4f-e0d3e85e7bc5",
   "metadata": {},
   "source": [
    "**Q7) What is the default storage class in S3?**\n"
   ]
  },
  {
   "cell_type": "markdown",
   "id": "b8f5db61-e336-4811-b2ac-1c2171f92b33",
   "metadata": {},
   "source": [
    "Answer: The default storage class in S3 in Standard frequently accessed.\n",
    "     "
   ]
  },
  {
   "cell_type": "markdown",
   "id": "c5f6af56-8901-48bc-8c76-4fa2bda1d220",
   "metadata": {},
   "source": [
    " Q8) What is glacier? \n",
    "     "
   ]
  },
  {
   "cell_type": "markdown",
   "id": "82349852-f016-4e0b-acee-9bfc947a3988",
   "metadata": {},
   "source": [
    "Answer: Glacier is the back up or archival tool that you use to back up your data in S3. "
   ]
  },
  {
   "cell_type": "markdown",
   "id": "d8eb1ffa-5ba8-42c5-b21e-d0f32ed8ced7",
   "metadata": {},
   "source": [
    "**Q9) How can you secure the access to your S3 bucket?**\n"
   ]
  },
  {
   "cell_type": "markdown",
   "id": "9e31664f-3eb5-47bb-bde0-53ed7a28ad99",
   "metadata": {},
   "source": [
    "Answer: There are two ways that you can control the access to your S3 buckets, \n",
    "• ACL – Access Control List \n",
    "• Bucket polices "
   ]
  },
  {
   "cell_type": "markdown",
   "id": "38c91996-cddd-4fbc-991c-7e549cda3868",
   "metadata": {},
   "source": [
    "**Q10) How can you encrypt data in S3?** \n"
   ]
  },
  {
   "cell_type": "markdown",
   "id": "d5efa1e3-c027-4e4d-83eb-26c056f5ede9",
   "metadata": {},
   "source": [
    "Answer: You can encrypt the data by using the below methods, \n",
    "• Server Side Encryption – S3 (AES 256 encryption) \n",
    "• Server Side Encryption – KMS (Key management Service) \n",
    "• Server Side Encryption – C (Client Side) "
   ]
  },
  {
   "cell_type": "markdown",
   "id": "c118b8a1-b283-4183-ba23-33386c55eca3",
   "metadata": {},
   "source": [
    "**Q11) What are the parameters for S3 pricing?**"
   ]
  },
  {
   "cell_type": "markdown",
   "id": "7c120dbf-e02d-4d38-8163-4fe09f3ee169",
   "metadata": {},
   "source": [
    "Answer: The pricing model for S3 is as below, \n",
    "     • Storage used \n",
    "    • Number of requests you make \n",
    "    • Storage management \n",
    "    • Data transfer \n",
    "     • Transfer acceleration "
   ]
  },
  {
   "cell_type": "markdown",
   "id": "a0d127f8-4e34-4005-9f9b-3284d1cead52",
   "metadata": {},
   "source": [
    "**Q12) What is the pre-requisite to work with Cross region replication in S3? "
   ]
  },
  {
   "cell_type": "markdown",
   "id": "7a737ed8-d012-463e-957e-b090227181d9",
   "metadata": {},
   "source": [
    "Answer: You need to enable versioning on both source bucket and destination to work with cross region replication. \n",
    "Also both the source and destination bucket should be in different region. "
   ]
  },
  {
   "cell_type": "markdown",
   "id": "6c7339f7-fb19-412c-b54b-c1b752069be6",
   "metadata": {},
   "source": [
    "Q25) What are roles? \n"
   ]
  },
  {
   "cell_type": "markdown",
   "id": "8224d553-fb14-4655-b14f-2efb3ffda14d",
   "metadata": {},
   "source": [
    "Answer: Roles are used to provide permissions to entities that you trust within your AWS account. Roles are users in another account. \n",
    "Roles are similar to users but with roles you do not need to create any username and password to work with the resources. "
   ]
  }
 ],
 "metadata": {
  "kernelspec": {
   "display_name": "Python 3 (ipykernel)",
   "language": "python",
   "name": "python3"
  },
  "language_info": {
   "codemirror_mode": {
    "name": "ipython",
    "version": 3
   },
   "file_extension": ".py",
   "mimetype": "text/x-python",
   "name": "python",
   "nbconvert_exporter": "python",
   "pygments_lexer": "ipython3",
   "version": "3.11.7"
  }
 },
 "nbformat": 4,
 "nbformat_minor": 5
}
